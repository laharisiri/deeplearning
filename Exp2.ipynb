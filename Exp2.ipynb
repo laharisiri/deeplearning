{
  "nbformat": 4,
  "nbformat_minor": 0,
  "metadata": {
    "colab": {
      "provenance": [],
      "authorship_tag": "ABX9TyOwsvok1/emm/5UFxreuQL3",
      "include_colab_link": true
    },
    "kernelspec": {
      "name": "python3",
      "display_name": "Python 3"
    },
    "language_info": {
      "name": "python"
    }
  },
  "cells": [
    {
      "cell_type": "markdown",
      "metadata": {
        "id": "view-in-github",
        "colab_type": "text"
      },
      "source": [
        "<a href=\"https://colab.research.google.com/github/laharisiri/deeplearning/blob/main/Exp2.ipynb\" target=\"_parent\"><img src=\"https://colab.research.google.com/assets/colab-badge.svg\" alt=\"Open In Colab\"/></a>"
      ]
    },
    {
      "cell_type": "code",
      "source": [
        "import numpy as np\n",
        "import random\n",
        "import sys"
      ],
      "metadata": {
        "id": "3DocoT9Jg1Ix"
      },
      "execution_count": 5,
      "outputs": []
    },
    {
      "cell_type": "code",
      "source": [
        "and_gate = [\n",
        "# [(inputs), expected output]\n",
        "    [(1, 1), 1],\n",
        "    [(1, -1), -1],\n",
        "    [(-1, 1), -1],\n",
        "    [(-1, -1), -1]\n",
        "]"
      ],
      "metadata": {
        "id": "7lm1JVQdapl3"
      },
      "execution_count": 6,
      "outputs": []
    },
    {
      "cell_type": "code",
      "source": [
        "or_gate = [\n",
        "    [(1, 1), 1],\n",
        "    [(1, -1), 1],\n",
        "    [(-1, 1), 1],\n",
        "    [(-1, -1), -1]\n",
        "]\n"
      ],
      "metadata": {
        "id": "opD7jHQjavEP"
      },
      "execution_count": null,
      "outputs": []
    },
    {
      "cell_type": "code",
      "source": [
        "def activation_function(x):\n",
        "    if x > 0:\n",
        "        return 1\n",
        "    elif x < 0:\n",
        "        return -1"
      ],
      "metadata": {
        "id": "BhXCHAYya_PN"
      },
      "execution_count": null,
      "outputs": []
    },
    {
      "cell_type": "code",
      "source": [
        "def run_perceptron(gate):\n",
        "    bias = (1,)\n",
        "    learning_constant = 0.1\n",
        "    n = 50\n",
        "    weights = []\n",
        "    for i in range(3):\n",
        "        weights.append(random.uniform(-1, 1))\n",
        "\n",
        "    for i in range(n):\n",
        "        inputs, expected_output = random.choice(gate)\n",
        "        inputs = inputs + bias\n",
        "        weighted_sum = np.dot(inputs, weights)\n",
        "        guess = activation_function(weighted_sum)\n",
        "        error = expected_output - guess\n",
        "        weights += learning_constant * error * np.asarray(inputs)\n",
        "\n",
        "\n",
        "    inputs, expected_output = random.choice(gate)\n",
        "    print(\"inputs: \" + str(inputs))\n",
        "    inputs = inputs + bias\n",
        "    weighted_sum = np.dot(inputs, weights)\n",
        "    print(\"weighted sum: \" + str(weighted_sum))\n",
        "    print(\"correct answer: \" + str(expected_output))\n",
        "    print(\"perceptron guess: \" + str(activation_function(weighted_sum)) + '\\n')"
      ],
      "metadata": {
        "id": "u2Hawz5vbBoM"
      },
      "execution_count": 9,
      "outputs": []
    },
    {
      "cell_type": "code",
      "source": [
        "tests=2\n",
        "for i in range(tests):\n",
        "    print(\"// AND //\")\n",
        "    run_perceptron(and_gate)\n",
        "\n",
        "    print(\"// OR //\")\n",
        "    run_perceptron(or_gate)"
      ],
      "metadata": {
        "colab": {
          "base_uri": "https://localhost:8080/"
        },
        "id": "XqA8UAIIbJV2",
        "outputId": "f23af89a-5142-43fb-9851-33ca7f728615"
      },
      "execution_count": 10,
      "outputs": [
        {
          "output_type": "stream",
          "name": "stdout",
          "text": [
            "// AND //\n",
            "inputs: (-1, -1)\n",
            "weighted sum: -1.3141812546878031\n",
            "correct answer: -1\n",
            "perceptron guess: -1\n",
            "\n",
            "// OR //\n",
            "inputs: (-1, -1)\n",
            "weighted sum: -0.3047668327072512\n",
            "correct answer: -1\n",
            "perceptron guess: -1\n",
            "\n",
            "// AND //\n",
            "inputs: (-1, 1)\n",
            "weighted sum: -0.7526462069268314\n",
            "correct answer: -1\n",
            "perceptron guess: -1\n",
            "\n",
            "// OR //\n",
            "inputs: (-1, 1)\n",
            "weighted sum: 0.10986299161448654\n",
            "correct answer: 1\n",
            "perceptron guess: 1\n",
            "\n"
          ]
        }
      ]
    }
  ]
}